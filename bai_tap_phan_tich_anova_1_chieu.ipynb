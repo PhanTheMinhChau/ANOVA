{
  "nbformat": 4,
  "nbformat_minor": 0,
  "metadata": {
    "kernelspec": {
      "display_name": "Python 3",
      "language": "python",
      "name": "python3"
    },
    "language_info": {
      "codemirror_mode": {
        "name": "ipython",
        "version": 3
      },
      "file_extension": ".py",
      "mimetype": "text/x-python",
      "name": "python",
      "nbconvert_exporter": "python",
      "pygments_lexer": "ipython3",
      "version": "3.7.3"
    },
    "colab": {
      "name": "bai-tap-phan-tich-anova-1-chieu.ipynb",
      "provenance": [],
      "include_colab_link": true
    }
  },
  "cells": [
    {
      "cell_type": "markdown",
      "metadata": {
        "id": "view-in-github",
        "colab_type": "text"
      },
      "source": [
        "<a href=\"https://colab.research.google.com/github/PhanTheMinhChau/ANOVA/blob/main/bai_tap_phan_tich_anova_1_chieu.ipynb\" target=\"_parent\"><img src=\"https://colab.research.google.com/assets/colab-badge.svg\" alt=\"Open In Colab\"/></a>"
      ]
    },
    {
      "cell_type": "markdown",
      "metadata": {
        "id": "dGoZiQTF_pEM"
      },
      "source": [
        "Hãy sử dụng các tập dữ liệu sau và tiến hành phân tích ANOVA 1 chiều\n",
        "\n",
        "- [Excavation Depth and Archaeology](https://college.cengage.com/mathematics/brase/understandable_statistics/7e/students/datasets/owan/frames/owan01.html)\n",
        "- [Apple Orchard Experiment](https://college.cengage.com/mathematics/brase/understandable_statistics/7e/students/datasets/owan/frames/owan02.html)\n",
        "- [Red Dye Number 40](https://college.cengage.com/mathematics/brase/understandable_statistics/7e/students/datasets/owan/frames/owan03.html)\n",
        "- [Business Startup Costs](https://college.cengage.com/mathematics/brase/understandable_statistics/7e/students/datasets/owan/frames/owan04.html)\n",
        "- [Weights of Football Players](https://college.cengage.com/mathematics/brase/understandable_statistics/7e/students/datasets/owan/frames/owan05.html)"
      ]
    },
    {
      "cell_type": "code",
      "metadata": {
        "id": "z5XUSXkU_pER"
      },
      "source": [
        "import pandas as pd\n",
        "from scipy import stats"
      ],
      "execution_count": null,
      "outputs": []
    },
    {
      "cell_type": "code",
      "metadata": {
        "id": "_qKR6lrK_pES"
      },
      "source": [
        "\n",
        "#H0: mẫu tuân theo phân phối chuẩn\n",
        "#H1: Mẫu không tuân theo phân phối chuẩn\n",
        "def shapiro(data): # kiểm tra phân phối chẩn hay không\n",
        "    series = []\n",
        "    for i in data.columns:\n",
        "        series.append(data[i].dropna())\n",
        "    for j in series:\n",
        "        sts, p = stats.shapiro(j)\n",
        "        if p > 0.05:\n",
        "            print(f'không có bằng chứng để bác bỏ giả thiết H0: mẫu {j.name} tuân theo phân phối chuẩn')\n",
        "        else:\n",
        "            print(f'có bằng chứng để bác bỏ giả thiết H0, điều này ngụ ý chấp nhận giả thiết H1: mẫu {j.name} không tuân theo phân phối chuẩn')\n",
        "    print()\n",
        "\n",
        "#H0: Phương sai đồng nhất\n",
        "#H1: phương sai không đồng nhất\n",
        "def levene(self): # khiểm tra tính đồng nhất phương sai\n",
        "    series = []\n",
        "    for i in data.columns:\n",
        "        series.append(data[i].dropna())\n",
        "    sts, p = stats.levene(*self.series)\n",
        "    if p > 0.05:\n",
        "        print(f'không có bằng chứng để bác bỏ giả thiết H0: Phương sai đồng nhất')\n",
        "    else:\n",
        "        print(f'có bằng chứng để bác bỏ giả thiết H0, điều này ngụ ý chấp nhận giả thiết H1: phương sai không đồng nhất')\n",
        "\n",
        "def anova(self):\n",
        "    sts, p = stats.f_oneway(*self.series)\n",
        "    if p > 0.05:\n",
        "        print('các giá trị trung bình bằng nhau')\n",
        "    else:\n",
        "        print('Có tối thiểu một cặp giá trị trung bình có giá trị khác nhau')"
      ],
      "execution_count": null,
      "outputs": []
    },
    {
      "cell_type": "code",
      "metadata": {
        "id": "s9y8UHHnCZPl",
        "colab": {
          "base_uri": "https://localhost:8080/"
        },
        "outputId": "9a9fbdfc-66ed-4a8b-e9fb-6fdd3fb01229"
      },
      "source": [
        "df1 = pd.read_excel('https://college.cengage.com/mathematics/brase/understandable_statistics/7e/students/datasets/owan/excel/owan01.xls')\n",
        "df2 = pd.read_excel('https://college.cengage.com/mathematics/brase/understandable_statistics/7e/students/datasets/owan/excel/owan02.xls')\n",
        "df3 = pd.read_excel('https://college.cengage.com/mathematics/brase/understandable_statistics/7e/students/datasets/owan/excel/owan03.xls')\n",
        "df4 = pd.read_excel('https://college.cengage.com/mathematics/brase/understandable_statistics/7e/students/datasets/owan/excel/owan04.xls')\n",
        "df5 = pd.read_excel('https://college.cengage.com/mathematics/brase/understandable_statistics/7e/students/datasets/owan/excel/owan05.xls')"
      ],
      "execution_count": null,
      "outputs": [
        {
          "output_type": "stream",
          "text": [
            "*** No CODEPAGE record, no encoding_override: will use 'ascii'\n",
            "*** No CODEPAGE record, no encoding_override: will use 'ascii'\n",
            "*** No CODEPAGE record, no encoding_override: will use 'ascii'\n",
            "*** No CODEPAGE record, no encoding_override: will use 'ascii'\n",
            "*** No CODEPAGE record, no encoding_override: will use 'ascii'\n"
          ],
          "name": "stdout"
        }
      ]
    },
    {
      "cell_type": "code",
      "metadata": {
        "id": "ybbP7c77EAJF",
        "colab": {
          "base_uri": "https://localhost:8080/"
        },
        "outputId": "4349f3c3-208d-4c5a-a222-b63b1a24aa24"
      },
      "source": [
        "anova1 = Anovaoneway(df1)\n",
        "anova1.shapiro()\n",
        "anova1.levene()\n",
        "anova1.anova()"
      ],
      "execution_count": null,
      "outputs": [
        {
          "output_type": "stream",
          "text": [
            "cột X1 tuân theo phân phối chuẩn\n",
            "cột X2 tuân theo phân phối chuẩn\n",
            "cột X3 tuân theo phân phối chuẩn\n",
            "cột X4 tuân theo phân phối chuẩn\n",
            "\n",
            "Phương sai đồng nhất\n",
            "\n",
            "Có tối thiểu một cặp giá trị trung bình có giá trị khác nhau\n"
          ],
          "name": "stdout"
        }
      ]
    },
    {
      "cell_type": "code",
      "metadata": {
        "id": "ovkFIAIpEAdi",
        "colab": {
          "base_uri": "https://localhost:8080/"
        },
        "outputId": "a6e2abfa-e14e-4fd5-8a58-eb6c0355e737"
      },
      "source": [
        "anova2 = Anovaoneway(df2)\n",
        "anova2.shapiro()\n",
        "anova2.levene()\n",
        "anova2.anova()"
      ],
      "execution_count": null,
      "outputs": [
        {
          "output_type": "stream",
          "text": [
            "cột X1 tuân theo phân phối chuẩn\n",
            "cột X2 tuân theo phân phối chuẩn\n",
            "cột X3 tuân theo phân phối chuẩn\n",
            "cột X4 tuân theo phân phối chuẩn\n",
            "cột X5 tuân theo phân phối chuẩn\n",
            "\n",
            "Phương sai đồng nhất\n",
            "\n",
            "các giá trị trung bình bằng nhau\n"
          ],
          "name": "stdout"
        }
      ]
    },
    {
      "cell_type": "code",
      "metadata": {
        "id": "AyE-BXWYEuvq",
        "colab": {
          "base_uri": "https://localhost:8080/"
        },
        "outputId": "f71913d6-5905-439b-9776-eab2e91754a0"
      },
      "source": [
        "anova3 = Anovaoneway(df3)\n",
        "anova3.shapiro()\n",
        "anova3.levene()\n",
        "anova3.anova()"
      ],
      "execution_count": null,
      "outputs": [
        {
          "output_type": "stream",
          "text": [
            "cột X1 tuân theo phân phối chuẩn\n",
            "cột X2 tuân theo phân phối chuẩn\n",
            "cột X3 tuân theo phân phối chuẩn\n",
            "cột X4 tuân theo phân phối chuẩn\n",
            "\n",
            "phương sai không đồng nhất\n",
            "\n",
            "Có tối thiểu một cặp giá trị trung bình có giá trị khác nhau\n"
          ],
          "name": "stdout"
        }
      ]
    },
    {
      "cell_type": "code",
      "metadata": {
        "id": "hRON66m3EvrC",
        "colab": {
          "base_uri": "https://localhost:8080/"
        },
        "outputId": "d0cee24a-b166-4e45-d527-77f66e62f008"
      },
      "source": [
        "anova4 = Anovaoneway(df4)\n",
        "anova4.shapiro()\n",
        "anova4.levene()\n",
        "anova4.anova()"
      ],
      "execution_count": null,
      "outputs": [
        {
          "output_type": "stream",
          "text": [
            "cột X1 tuân theo phân phối chuẩn\n",
            "cột X2 tuân theo phân phối chuẩn\n",
            "cột X3 tuân theo phân phối chuẩn\n",
            "cột X4 tuân theo phân phối chuẩn\n",
            "cột X5 tuân theo phân phối chuẩn\n",
            "\n",
            "Phương sai đồng nhất\n",
            "\n",
            "Có tối thiểu một cặp giá trị trung bình có giá trị khác nhau\n"
          ],
          "name": "stdout"
        }
      ]
    },
    {
      "cell_type": "code",
      "metadata": {
        "id": "rFKqHErTEwSB",
        "colab": {
          "base_uri": "https://localhost:8080/"
        },
        "outputId": "a5e19169-4d82-49e8-ce51-4c74c330ce5e"
      },
      "source": [
        "anova5 = Anovaoneway(df5)\n",
        "anova5.shapiro()\n",
        "anova5.levene()\n",
        "anova5.anova()"
      ],
      "execution_count": null,
      "outputs": [
        {
          "output_type": "stream",
          "text": [
            "cột X1 không tuân theo phân phối chuẩn\n",
            "cột X2 tuân theo phân phối chuẩn\n",
            "cột X3 tuân theo phân phối chuẩn\n",
            "cột X4 tuân theo phân phối chuẩn\n",
            "cột X5 tuân theo phân phối chuẩn\n",
            "\n",
            "Phương sai đồng nhất\n",
            "\n",
            "các giá trị trung bình bằng nhau\n"
          ],
          "name": "stdout"
        }
      ]
    }
  ]
}